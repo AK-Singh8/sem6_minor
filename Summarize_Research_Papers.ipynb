{
  "nbformat": 4,
  "nbformat_minor": 0,
  "metadata": {
    "colab": {
      "provenance": [],
      "include_colab_link": true
    },
    "kernelspec": {
      "name": "python3",
      "display_name": "Python 3"
    },
    "language_info": {
      "name": "python"
    },
    "widgets": {
      "application/vnd.jupyter.widget-state+json": {
        "787a5e05a0ce4c02a9ae626106897838": {
          "model_module": "@jupyter-widgets/controls",
          "model_name": "DropdownModel",
          "model_module_version": "1.5.0",
          "state": {
            "_dom_classes": [],
            "_model_module": "@jupyter-widgets/controls",
            "_model_module_version": "1.5.0",
            "_model_name": "DropdownModel",
            "_options_labels": [
              "Select Input Type",
              "Upload PDF",
              "Enter Text"
            ],
            "_view_count": null,
            "_view_module": "@jupyter-widgets/controls",
            "_view_module_version": "1.5.0",
            "_view_name": "DropdownView",
            "description": "Input:",
            "description_tooltip": null,
            "disabled": false,
            "index": 1,
            "layout": "IPY_MODEL_2bb6e9203c8b44aba277c8b151414c03",
            "style": "IPY_MODEL_662ccf0b2c0e4c59bfad9fce5c6bb398"
          }
        },
        "2bb6e9203c8b44aba277c8b151414c03": {
          "model_module": "@jupyter-widgets/base",
          "model_name": "LayoutModel",
          "model_module_version": "1.2.0",
          "state": {
            "_model_module": "@jupyter-widgets/base",
            "_model_module_version": "1.2.0",
            "_model_name": "LayoutModel",
            "_view_count": null,
            "_view_module": "@jupyter-widgets/base",
            "_view_module_version": "1.2.0",
            "_view_name": "LayoutView",
            "align_content": null,
            "align_items": null,
            "align_self": null,
            "border": null,
            "bottom": null,
            "display": null,
            "flex": null,
            "flex_flow": null,
            "grid_area": null,
            "grid_auto_columns": null,
            "grid_auto_flow": null,
            "grid_auto_rows": null,
            "grid_column": null,
            "grid_gap": null,
            "grid_row": null,
            "grid_template_areas": null,
            "grid_template_columns": null,
            "grid_template_rows": null,
            "height": null,
            "justify_content": null,
            "justify_items": null,
            "left": null,
            "margin": null,
            "max_height": null,
            "max_width": null,
            "min_height": null,
            "min_width": null,
            "object_fit": null,
            "object_position": null,
            "order": null,
            "overflow": null,
            "overflow_x": null,
            "overflow_y": null,
            "padding": null,
            "right": null,
            "top": null,
            "visibility": null,
            "width": null
          }
        },
        "662ccf0b2c0e4c59bfad9fce5c6bb398": {
          "model_module": "@jupyter-widgets/controls",
          "model_name": "DescriptionStyleModel",
          "model_module_version": "1.5.0",
          "state": {
            "_model_module": "@jupyter-widgets/controls",
            "_model_module_version": "1.5.0",
            "_model_name": "DescriptionStyleModel",
            "_view_count": null,
            "_view_module": "@jupyter-widgets/base",
            "_view_module_version": "1.2.0",
            "_view_name": "StyleView",
            "description_width": ""
          }
        },
        "a6af7cb9a4514f90a10b36ec462b057f": {
          "model_module": "@jupyter-widgets/controls",
          "model_name": "FileUploadModel",
          "model_module_version": "1.5.0",
          "state": {
            "_counter": 1,
            "_dom_classes": [],
            "_model_module": "@jupyter-widgets/controls",
            "_model_module_version": "1.5.0",
            "_model_name": "FileUploadModel",
            "_view_count": null,
            "_view_module": "@jupyter-widgets/controls",
            "_view_module_version": "1.5.0",
            "_view_name": "FileUploadView",
            "accept": ".pdf",
            "button_style": "",
            "data": [
              null
            ],
            "description": "Upload",
            "description_tooltip": null,
            "disabled": false,
            "error": "",
            "icon": "upload",
            "layout": "IPY_MODEL_4673c8d226cd451a8403f60419d23b09",
            "metadata": [
              {
                "name": "sample_abstract.pdf",
                "type": "application/pdf",
                "size": 1448,
                "lastModified": 1743687985058
              }
            ],
            "multiple": false,
            "style": "IPY_MODEL_536927a7b9764abf810ffaafd37716b7"
          }
        },
        "4673c8d226cd451a8403f60419d23b09": {
          "model_module": "@jupyter-widgets/base",
          "model_name": "LayoutModel",
          "model_module_version": "1.2.0",
          "state": {
            "_model_module": "@jupyter-widgets/base",
            "_model_module_version": "1.2.0",
            "_model_name": "LayoutModel",
            "_view_count": null,
            "_view_module": "@jupyter-widgets/base",
            "_view_module_version": "1.2.0",
            "_view_name": "LayoutView",
            "align_content": null,
            "align_items": null,
            "align_self": null,
            "border": null,
            "bottom": null,
            "display": "block",
            "flex": null,
            "flex_flow": null,
            "grid_area": null,
            "grid_auto_columns": null,
            "grid_auto_flow": null,
            "grid_auto_rows": null,
            "grid_column": null,
            "grid_gap": null,
            "grid_row": null,
            "grid_template_areas": null,
            "grid_template_columns": null,
            "grid_template_rows": null,
            "height": null,
            "justify_content": null,
            "justify_items": null,
            "left": null,
            "margin": null,
            "max_height": null,
            "max_width": null,
            "min_height": null,
            "min_width": null,
            "object_fit": null,
            "object_position": null,
            "order": null,
            "overflow": null,
            "overflow_x": null,
            "overflow_y": null,
            "padding": null,
            "right": null,
            "top": null,
            "visibility": null,
            "width": null
          }
        },
        "536927a7b9764abf810ffaafd37716b7": {
          "model_module": "@jupyter-widgets/controls",
          "model_name": "ButtonStyleModel",
          "model_module_version": "1.5.0",
          "state": {
            "_model_module": "@jupyter-widgets/controls",
            "_model_module_version": "1.5.0",
            "_model_name": "ButtonStyleModel",
            "_view_count": null,
            "_view_module": "@jupyter-widgets/base",
            "_view_module_version": "1.2.0",
            "_view_name": "StyleView",
            "button_color": null,
            "font_weight": ""
          }
        },
        "89b39786a3274a35bdf3878334f36629": {
          "model_module": "@jupyter-widgets/controls",
          "model_name": "TextareaModel",
          "model_module_version": "1.5.0",
          "state": {
            "_dom_classes": [],
            "_model_module": "@jupyter-widgets/controls",
            "_model_module_version": "1.5.0",
            "_model_name": "TextareaModel",
            "_view_count": null,
            "_view_module": "@jupyter-widgets/controls",
            "_view_module_version": "1.5.0",
            "_view_name": "TextareaView",
            "continuous_update": true,
            "description": "",
            "description_tooltip": null,
            "disabled": false,
            "layout": "IPY_MODEL_398fd452af184e37a5d8748bb07ec083",
            "placeholder": "Enter your text here...",
            "rows": null,
            "style": "IPY_MODEL_c621fb70a3bf4e14b6110e26d31d07fc",
            "value": ""
          }
        },
        "398fd452af184e37a5d8748bb07ec083": {
          "model_module": "@jupyter-widgets/base",
          "model_name": "LayoutModel",
          "model_module_version": "1.2.0",
          "state": {
            "_model_module": "@jupyter-widgets/base",
            "_model_module_version": "1.2.0",
            "_model_name": "LayoutModel",
            "_view_count": null,
            "_view_module": "@jupyter-widgets/base",
            "_view_module_version": "1.2.0",
            "_view_name": "LayoutView",
            "align_content": null,
            "align_items": null,
            "align_self": null,
            "border": null,
            "bottom": null,
            "display": "none",
            "flex": null,
            "flex_flow": null,
            "grid_area": null,
            "grid_auto_columns": null,
            "grid_auto_flow": null,
            "grid_auto_rows": null,
            "grid_column": null,
            "grid_gap": null,
            "grid_row": null,
            "grid_template_areas": null,
            "grid_template_columns": null,
            "grid_template_rows": null,
            "height": "150px",
            "justify_content": null,
            "justify_items": null,
            "left": null,
            "margin": null,
            "max_height": null,
            "max_width": null,
            "min_height": null,
            "min_width": null,
            "object_fit": null,
            "object_position": null,
            "order": null,
            "overflow": null,
            "overflow_x": null,
            "overflow_y": null,
            "padding": null,
            "right": null,
            "top": null,
            "visibility": null,
            "width": "100%"
          }
        },
        "c621fb70a3bf4e14b6110e26d31d07fc": {
          "model_module": "@jupyter-widgets/controls",
          "model_name": "DescriptionStyleModel",
          "model_module_version": "1.5.0",
          "state": {
            "_model_module": "@jupyter-widgets/controls",
            "_model_module_version": "1.5.0",
            "_model_name": "DescriptionStyleModel",
            "_view_count": null,
            "_view_module": "@jupyter-widgets/base",
            "_view_module_version": "1.2.0",
            "_view_name": "StyleView",
            "description_width": ""
          }
        },
        "aa356da2575544a690596008d97ce766": {
          "model_module": "@jupyter-widgets/controls",
          "model_name": "DropdownModel",
          "model_module_version": "1.5.0",
          "state": {
            "_dom_classes": [],
            "_model_module": "@jupyter-widgets/controls",
            "_model_module_version": "1.5.0",
            "_model_name": "DropdownModel",
            "_options_labels": [
              "Select an Option",
              "Summarizer",
              "Keywords",
              "Sentiment Analysis"
            ],
            "_view_count": null,
            "_view_module": "@jupyter-widgets/controls",
            "_view_module_version": "1.5.0",
            "_view_name": "DropdownView",
            "description": "Task:",
            "description_tooltip": null,
            "disabled": false,
            "index": 3,
            "layout": "IPY_MODEL_0b29bd3f8b8b402884768dd24a08b5a3",
            "style": "IPY_MODEL_130e4d73742a43ed8cb1aa3dda6c84ca"
          }
        },
        "0b29bd3f8b8b402884768dd24a08b5a3": {
          "model_module": "@jupyter-widgets/base",
          "model_name": "LayoutModel",
          "model_module_version": "1.2.0",
          "state": {
            "_model_module": "@jupyter-widgets/base",
            "_model_module_version": "1.2.0",
            "_model_name": "LayoutModel",
            "_view_count": null,
            "_view_module": "@jupyter-widgets/base",
            "_view_module_version": "1.2.0",
            "_view_name": "LayoutView",
            "align_content": null,
            "align_items": null,
            "align_self": null,
            "border": null,
            "bottom": null,
            "display": null,
            "flex": null,
            "flex_flow": null,
            "grid_area": null,
            "grid_auto_columns": null,
            "grid_auto_flow": null,
            "grid_auto_rows": null,
            "grid_column": null,
            "grid_gap": null,
            "grid_row": null,
            "grid_template_areas": null,
            "grid_template_columns": null,
            "grid_template_rows": null,
            "height": null,
            "justify_content": null,
            "justify_items": null,
            "left": null,
            "margin": null,
            "max_height": null,
            "max_width": null,
            "min_height": null,
            "min_width": null,
            "object_fit": null,
            "object_position": null,
            "order": null,
            "overflow": null,
            "overflow_x": null,
            "overflow_y": null,
            "padding": null,
            "right": null,
            "top": null,
            "visibility": null,
            "width": null
          }
        },
        "130e4d73742a43ed8cb1aa3dda6c84ca": {
          "model_module": "@jupyter-widgets/controls",
          "model_name": "DescriptionStyleModel",
          "model_module_version": "1.5.0",
          "state": {
            "_model_module": "@jupyter-widgets/controls",
            "_model_module_version": "1.5.0",
            "_model_name": "DescriptionStyleModel",
            "_view_count": null,
            "_view_module": "@jupyter-widgets/base",
            "_view_module_version": "1.2.0",
            "_view_name": "StyleView",
            "description_width": ""
          }
        },
        "97723acc4b5541fa9091a7e2bcc81a69": {
          "model_module": "@jupyter-widgets/output",
          "model_name": "OutputModel",
          "model_module_version": "1.0.0",
          "state": {
            "_dom_classes": [],
            "_model_module": "@jupyter-widgets/output",
            "_model_module_version": "1.0.0",
            "_model_name": "OutputModel",
            "_view_count": null,
            "_view_module": "@jupyter-widgets/output",
            "_view_module_version": "1.0.0",
            "_view_name": "OutputView",
            "layout": "IPY_MODEL_4a4d8ee92a924376b3f403d70d9869bd",
            "msg_id": "",
            "outputs": [
              {
                "output_type": "stream",
                "name": "stderr",
                "text": [
                  "Device set to use cpu\n"
                ]
              },
              {
                "output_type": "stream",
                "name": "stdout",
                "text": [
                  "\n",
                  "Sentiment Analysis Result: [{'label': 'POSITIVE', 'score': 0.9881289601325989}]\n"
                ]
              }
            ]
          }
        },
        "4a4d8ee92a924376b3f403d70d9869bd": {
          "model_module": "@jupyter-widgets/base",
          "model_name": "LayoutModel",
          "model_module_version": "1.2.0",
          "state": {
            "_model_module": "@jupyter-widgets/base",
            "_model_module_version": "1.2.0",
            "_model_name": "LayoutModel",
            "_view_count": null,
            "_view_module": "@jupyter-widgets/base",
            "_view_module_version": "1.2.0",
            "_view_name": "LayoutView",
            "align_content": null,
            "align_items": null,
            "align_self": null,
            "border": null,
            "bottom": null,
            "display": null,
            "flex": null,
            "flex_flow": null,
            "grid_area": null,
            "grid_auto_columns": null,
            "grid_auto_flow": null,
            "grid_auto_rows": null,
            "grid_column": null,
            "grid_gap": null,
            "grid_row": null,
            "grid_template_areas": null,
            "grid_template_columns": null,
            "grid_template_rows": null,
            "height": null,
            "justify_content": null,
            "justify_items": null,
            "left": null,
            "margin": null,
            "max_height": null,
            "max_width": null,
            "min_height": null,
            "min_width": null,
            "object_fit": null,
            "object_position": null,
            "order": null,
            "overflow": null,
            "overflow_x": null,
            "overflow_y": null,
            "padding": null,
            "right": null,
            "top": null,
            "visibility": null,
            "width": null
          }
        }
      }
    }
  },
  "cells": [
    {
      "cell_type": "markdown",
      "metadata": {
        "id": "view-in-github",
        "colab_type": "text"
      },
      "source": [
        "<a href=\"https://colab.research.google.com/github/AK-Singh8/sem6_minor/blob/main/Summarize_Research_Papers.ipynb\" target=\"_parent\"><img src=\"https://colab.research.google.com/assets/colab-badge.svg\" alt=\"Open In Colab\"/></a>"
      ]
    },
    {
      "cell_type": "code",
      "execution_count": 24,
      "metadata": {
        "collapsed": true,
        "id": "Ngyqz8eNMbad",
        "outputId": "b8dfa8d9-2e38-4545-8c84-5fd3b4dd8e58",
        "colab": {
          "base_uri": "https://localhost:8080/"
        }
      },
      "outputs": [
        {
          "output_type": "stream",
          "name": "stderr",
          "text": [
            "[nltk_data] Downloading package wordnet to /root/nltk_data...\n",
            "[nltk_data]   Package wordnet is already up-to-date!\n"
          ]
        },
        {
          "output_type": "execute_result",
          "data": {
            "text/plain": [
              "True"
            ]
          },
          "metadata": {},
          "execution_count": 24
        }
      ],
      "source": [
        "nltk.download('wordnet')"
      ]
    },
    {
      "cell_type": "code",
      "source": [
        "import fitz  # PyMuPDF for extracting text from PDFs\n",
        "import nltk\n",
        "import ipywidgets as widgets\n",
        "from IPython.display import display\n",
        "import io\n",
        "from sentence_transformers import SentenceTransformer\n",
        "from keybert import KeyBERT\n",
        "from nltk.corpus import wordnet\n",
        "from nltk.stem import WordNetLemmatizer\n",
        "from sklearn.metrics.pairwise import cosine_similarity\n",
        "from transformers import pipeline\n",
        "import numpy as np"
      ],
      "metadata": {
        "id": "DPaQABOQMsyQ"
      },
      "execution_count": 25,
      "outputs": []
    },
    {
      "cell_type": "code",
      "source": [
        "# Load models\n",
        "model = SentenceTransformer('all-MiniLM-L6-v2')\n",
        "key_model = KeyBERT('all-MiniLM-L6-v2')\n",
        "sentiment_model = \"distilbert-base-uncased-finetuned-sst-2-english\"\n",
        "lemmatizer = WordNetLemmatizer()\n",
        "\n",
        "# Widgets for input selection\n",
        "input_selection = widgets.Dropdown(\n",
        "    options=[(\"Select Input Type\", \"\"), (\"Upload PDF\", \"pdf\"), (\"Enter Text\", \"text\")],\n",
        "    description=\"Input:\",\n",
        "    disabled=False,\n",
        ")\n",
        "\n",
        "# PDF upload widget\n",
        "upload_widget = widgets.FileUpload(accept='.pdf', multiple=False)\n",
        "\n",
        "# Text input widget\n",
        "text_area = widgets.Textarea(\n",
        "    placeholder=\"Enter your text here...\",\n",
        "    layout=widgets.Layout(width=\"100%\", height=\"150px\"),\n",
        ")\n",
        "\n",
        "# Dropdown for user selection\n",
        "task_dropdown = widgets.Dropdown(\n",
        "    options=[(\"Select an Option\", \"\"), (\"Summarizer\", \"summarizer\"), (\"Keywords\", \"keywords\"), (\"Sentiment Analysis\", \"sentiment\")],\n",
        "    description=\"Task:\",\n",
        "    disabled=True,  # Initially disabled\n",
        ")\n",
        "\n",
        "# Output display\n",
        "output = widgets.Output()\n",
        "\n",
        "# Function to extract text from uploaded PDF\n",
        "def extract_text_from_pdf(uploaded_file):\n",
        "    try:\n",
        "        pdf_bytes = uploaded_file['content']\n",
        "        doc = fitz.open(stream=pdf_bytes, filetype=\"pdf\")\n",
        "        text = \"\\n\".join(page.get_text(\"text\") for page in doc)\n",
        "        return text.strip()\n",
        "    except Exception as e:\n",
        "        return f\"Error extracting text: {e}\"\n",
        "\n",
        "# Summarization function\n",
        "def summarizer(abstract, top_n=3):\n",
        "    with output:\n",
        "        output.clear_output()\n",
        "        if not abstract.strip():\n",
        "            print(\"No text provided for summarization.\")\n",
        "            return\n",
        "\n",
        "        papers = [sentence.strip() for sentence in abstract.split(\".\") if sentence.strip()]\n",
        "\n",
        "        if not papers:\n",
        "            print(\"No valid sentences found for summarization.\")\n",
        "            return\n",
        "\n",
        "        sentence_embeddings = np.array(model.encode(papers))\n",
        "        mean_embedding = np.mean(sentence_embeddings, axis=0)\n",
        "        similarities = cosine_similarity([mean_embedding], sentence_embeddings)[0]\n",
        "\n",
        "        top_n = min(top_n, len(papers))\n",
        "        top_sentence_indices = similarities.argsort()[-top_n:][::-1]\n",
        "        summary = [papers[i] for i in top_sentence_indices]\n",
        "\n",
        "        print(\"\\nSummary:\")\n",
        "        for sentence in summary:\n",
        "            print(sentence)\n",
        "\n",
        "# Keyword extraction function\n",
        "def keywords(abstract):\n",
        "    with output:\n",
        "        output.clear_output()\n",
        "        if not abstract.strip():\n",
        "            print(\"No text provided for keyword extraction.\")\n",
        "            return\n",
        "\n",
        "        def get_wordnet_pos(word):\n",
        "            tag = wordnet.synsets(word)\n",
        "            return tag[0].pos() if tag else wordnet.NOUN\n",
        "\n",
        "        extracted_keywords = key_model.extract_keywords(abstract, keyphrase_ngram_range=(1, 1), stop_words='english', top_n=10)\n",
        "        lemmatized_keywords = list(set([lemmatizer.lemmatize(keyword, get_wordnet_pos(keyword)) for keyword, _ in extracted_keywords]))\n",
        "\n",
        "        print(\"\\nUnique Keywords:\", lemmatized_keywords[:5])\n",
        "\n",
        "# Sentiment analysis function\n",
        "def sentiment_analysis(abstract):\n",
        "    with output:\n",
        "        output.clear_output()\n",
        "        if not abstract.strip():\n",
        "            print(\"No text provided for sentiment analysis.\")\n",
        "            return\n",
        "\n",
        "        sentiment_analysis_model = pipeline(\"sentiment-analysis\", sentiment_model)\n",
        "        sentiment_results = sentiment_analysis_model(abstract)\n",
        "\n",
        "        print(\"\\nSentiment Analysis Result:\", sentiment_results)\n",
        "\n",
        "# Handle input type selection\n",
        "def handle_input_selection(change):\n",
        "    if input_selection.value == \"pdf\":\n",
        "        upload_widget.layout.display = \"block\"\n",
        "        text_area.layout.display = \"none\"\n",
        "        task_dropdown.disabled = True  # Disable task selection until PDF is processed\n",
        "    elif input_selection.value == \"text\":\n",
        "        upload_widget.layout.display = \"none\"\n",
        "        text_area.layout.display = \"block\"\n",
        "        task_dropdown.disabled = False  # Enable task selection for manual text\n",
        "    else:\n",
        "        upload_widget.layout.display = \"none\"\n",
        "        text_area.layout.display = \"none\"\n",
        "        task_dropdown.disabled = True\n",
        "\n",
        "# Function to handle uploaded file\n",
        "def handle_upload(change):\n",
        "    uploaded_file = list(upload_widget.value.values())[0] if upload_widget.value else None\n",
        "\n",
        "    if not uploaded_file:\n",
        "        with output:\n",
        "            output.clear_output()\n",
        "            print(\"No file uploaded.\")\n",
        "        return\n",
        "\n",
        "    abstract = extract_text_from_pdf(uploaded_file)\n",
        "    if not abstract:\n",
        "        with output:\n",
        "            output.clear_output()\n",
        "            print(\"Failed to extract text from the PDF.\")\n",
        "        return\n",
        "\n",
        "    with output:\n",
        "        output.clear_output()\n",
        "        print(\"\\nExtracted Text:\\n\", abstract)\n",
        "\n",
        "    task_dropdown.disabled = False  # Enable task selection after text extraction\n",
        "\n",
        "# Enable task selection when text is entered manually\n",
        "def handle_text_change(change):\n",
        "    task_dropdown.disabled = False if text_area.value.strip() else True\n",
        "\n",
        "# Function to handle task selection\n",
        "def handle_task_selection(change):\n",
        "    if input_selection.value == \"pdf\":\n",
        "        uploaded_file = list(upload_widget.value.values())[0] if upload_widget.value else None\n",
        "        if not uploaded_file:\n",
        "            with output:\n",
        "                output.clear_output()\n",
        "                print(\"No file uploaded.\")\n",
        "            return\n",
        "        abstract = extract_text_from_pdf(uploaded_file)\n",
        "    elif input_selection.value == \"text\":\n",
        "        abstract = text_area.value\n",
        "    else:\n",
        "        with output:\n",
        "            output.clear_output()\n",
        "            print(\"Please select an input type first.\")\n",
        "        return\n",
        "\n",
        "    if not abstract:\n",
        "        with output:\n",
        "            output.clear_output()\n",
        "            print(\"No text available for processing.\")\n",
        "        return\n",
        "\n",
        "    task = task_dropdown.value\n",
        "\n",
        "    if task == \"summarizer\":\n",
        "        summarizer(abstract)\n",
        "    elif task == \"keywords\":\n",
        "        keywords(abstract)\n",
        "    elif task == \"sentiment\":\n",
        "        sentiment_analysis(abstract)\n",
        "    else:\n",
        "        with output:\n",
        "            output.clear_output()\n",
        "            print(\"Please select a valid option.\")\n",
        "\n",
        "# Attach handlers\n",
        "input_selection.observe(handle_input_selection, names='value')\n",
        "upload_widget.observe(handle_upload, names='value')\n",
        "text_area.observe(handle_text_change, names='value')\n",
        "task_dropdown.observe(handle_task_selection, names='value')\n",
        "\n",
        "# Initially hide upload and text area widgets\n",
        "upload_widget.layout.display = \"none\"\n",
        "text_area.layout.display = \"none\"\n",
        "\n",
        "# Display widgets\n",
        "display(input_selection, upload_widget, text_area, task_dropdown, output)\n"
      ],
      "metadata": {
        "id": "l-qfd-FKM13Y",
        "outputId": "d7d667dc-4160-4ff3-f456-318dc09effd4",
        "colab": {
          "base_uri": "https://localhost:8080/",
          "height": 161,
          "referenced_widgets": [
            "787a5e05a0ce4c02a9ae626106897838",
            "2bb6e9203c8b44aba277c8b151414c03",
            "662ccf0b2c0e4c59bfad9fce5c6bb398",
            "a6af7cb9a4514f90a10b36ec462b057f",
            "4673c8d226cd451a8403f60419d23b09",
            "536927a7b9764abf810ffaafd37716b7",
            "89b39786a3274a35bdf3878334f36629",
            "398fd452af184e37a5d8748bb07ec083",
            "c621fb70a3bf4e14b6110e26d31d07fc",
            "aa356da2575544a690596008d97ce766",
            "0b29bd3f8b8b402884768dd24a08b5a3",
            "130e4d73742a43ed8cb1aa3dda6c84ca",
            "97723acc4b5541fa9091a7e2bcc81a69",
            "4a4d8ee92a924376b3f403d70d9869bd"
          ]
        }
      },
      "execution_count": 29,
      "outputs": [
        {
          "output_type": "display_data",
          "data": {
            "text/plain": [
              "Dropdown(description='Input:', options=(('Select Input Type', ''), ('Upload PDF', 'pdf'), ('Enter Text', 'text…"
            ],
            "application/vnd.jupyter.widget-view+json": {
              "version_major": 2,
              "version_minor": 0,
              "model_id": "787a5e05a0ce4c02a9ae626106897838"
            }
          },
          "metadata": {}
        },
        {
          "output_type": "display_data",
          "data": {
            "text/plain": [
              "FileUpload(value={}, accept='.pdf', description='Upload', layout=Layout(display='none'))"
            ],
            "application/vnd.jupyter.widget-view+json": {
              "version_major": 2,
              "version_minor": 0,
              "model_id": "a6af7cb9a4514f90a10b36ec462b057f"
            }
          },
          "metadata": {}
        },
        {
          "output_type": "display_data",
          "data": {
            "text/plain": [
              "Textarea(value='', layout=Layout(display='none', height='150px', width='100%'), placeholder='Enter your text h…"
            ],
            "application/vnd.jupyter.widget-view+json": {
              "version_major": 2,
              "version_minor": 0,
              "model_id": "89b39786a3274a35bdf3878334f36629"
            }
          },
          "metadata": {}
        },
        {
          "output_type": "display_data",
          "data": {
            "text/plain": [
              "Dropdown(description='Task:', disabled=True, options=(('Select an Option', ''), ('Summarizer', 'summarizer'), …"
            ],
            "application/vnd.jupyter.widget-view+json": {
              "version_major": 2,
              "version_minor": 0,
              "model_id": "aa356da2575544a690596008d97ce766"
            }
          },
          "metadata": {}
        },
        {
          "output_type": "display_data",
          "data": {
            "text/plain": [
              "Output()"
            ],
            "application/vnd.jupyter.widget-view+json": {
              "version_major": 2,
              "version_minor": 0,
              "model_id": "97723acc4b5541fa9091a7e2bcc81a69"
            }
          },
          "metadata": {}
        }
      ]
    }
  ]
}